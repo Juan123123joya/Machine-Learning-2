{
 "cells": [
  {
   "cell_type": "code",
   "execution_count": 1,
   "id": "db67e315-1dc9-4c21-8514-631a1778c451",
   "metadata": {},
   "outputs": [
    {
     "name": "stdout",
     "output_type": "stream",
     "text": [
      "Collecting PyPDF2\n",
      "  Downloading pypdf2-3.0.1-py3-none-any.whl.metadata (6.8 kB)\n",
      "Downloading pypdf2-3.0.1-py3-none-any.whl (232 kB)\n",
      "Installing collected packages: PyPDF2\n",
      "Successfully installed PyPDF2-3.0.1\n",
      "Note: you may need to restart the kernel to use updated packages.\n"
     ]
    }
   ],
   "source": [
    "pip install PyPDF2\n"
   ]
  },
  {
   "cell_type": "code",
   "execution_count": 97,
   "id": "3ef6e0be-0ae7-46b4-92dc-59659acdf999",
   "metadata": {},
   "outputs": [
    {
     "name": "stderr",
     "output_type": "stream",
     "text": [
      "[nltk_data] Downloading package punkt to\n",
      "[nltk_data]     C:\\Users\\juanm\\AppData\\Roaming\\nltk_data...\n",
      "[nltk_data]   Package punkt is already up-to-date!\n",
      "[nltk_data] Downloading package stopwords to\n",
      "[nltk_data]     C:\\Users\\juanm\\AppData\\Roaming\\nltk_data...\n",
      "[nltk_data]   Package stopwords is already up-to-date!\n",
      "[nltk_data] Downloading package punkt_tab to\n",
      "[nltk_data]     C:\\Users\\juanm\\AppData\\Roaming\\nltk_data...\n",
      "[nltk_data]   Unzipping tokenizers\\punkt_tab.zip.\n"
     ]
    },
    {
     "data": {
      "text/plain": [
       "True"
      ]
     },
     "execution_count": 97,
     "metadata": {},
     "output_type": "execute_result"
    }
   ],
   "source": [
    "import nltk\n",
    "nltk.download('punkt')\n",
    "nltk.download('stopwords')\n",
    "nltk.download('punkt_tab')\n"
   ]
  },
  {
   "cell_type": "code",
   "execution_count": 98,
   "id": "b3c97d4d-fd70-46e2-803a-d515eb6c63a5",
   "metadata": {},
   "outputs": [],
   "source": [
    "import re\n",
    "import PyPDF2\n",
    "\n",
    "from nltk.corpus import stopwords\n",
    "from nltk.tokenize import word_tokenize\n",
    "\n",
    "import string"
   ]
  },
  {
   "cell_type": "code",
   "execution_count": 101,
   "id": "31765207-ec78-4169-9f33-1cafc57ae616",
   "metadata": {},
   "outputs": [],
   "source": [
    "keywords = [\"python\",\"data analysis\",\"mahcine learning\",\"depp learning\",\"artificial intelligence\",\"nlp\",\"tensorflow\",\"keras\",\"data visualization\",\"datascience\",\"sql\",\"r\"]\n",
    "\n",
    "stop_words=set(stopwords.words(\"english\"))"
   ]
  },
  {
   "cell_type": "code",
   "execution_count": 103,
   "id": "1cc6019b-380f-4f6e-bfe3-365f944f3781",
   "metadata": {},
   "outputs": [],
   "source": [
    "def pdf(file_path):\n",
    "    import PyPDF2  # Asegurar que la librería esté importada\n",
    "    \n",
    "    text = \"\"  # Inicializar text\n",
    "    \n",
    "    with open(file_path, \"rb\") as file:\n",
    "        pdf_reader = PyPDF2.PdfReader(file)\n",
    "\n",
    "        for page in pdf_reader.pages:\n",
    "            page_text = page.extract_text()\n",
    "            if page_text:\n",
    "                text += page_text  # Ahora text existe desde el inicio\n",
    "\n",
    "    return text\n"
   ]
  },
  {
   "cell_type": "markdown",
   "id": "e2d2492f-47da-42c1-8451-a0c85442bc93",
   "metadata": {},
   "source": [
    "### Tokenization"
   ]
  },
  {
   "cell_type": "code",
   "execution_count": 106,
   "id": "977cea16-46f3-4552-95e2-bea4bdcccc50",
   "metadata": {},
   "outputs": [],
   "source": [
    "import string\n",
    "from nltk.tokenize import word_tokenize\n",
    "from nltk.corpus import stopwords\n",
    "\n",
    "stop_words = set(stopwords.words(\"english\"))\n",
    "\n",
    "def token(text):\n",
    "    text = text.lower()\n",
    "    text = text.translate(str.maketrans(\"\", \"\", string.punctuation))  # Corregir `Str.maketrans` -> `str.maketrans`\n",
    "    \n",
    "    tokens = word_tokenize(text)\n",
    "    \n",
    "    filtered_tokens = [token for token in tokens if token not in stop_words]\n",
    "    \n",
    "    return filtered_tokens  # Retornar los tokens filtrados\n"
   ]
  },
  {
   "cell_type": "code",
   "execution_count": 108,
   "id": "9ff77bc5-4673-4648-b048-172929268ec6",
   "metadata": {},
   "outputs": [],
   "source": [
    "def match_keywords(tokens,keywords):\n",
    "    matched_keywords=[word for word in tokens if word in keywords]\n",
    "    return matched_keywords"
   ]
  },
  {
   "cell_type": "code",
   "execution_count": 120,
   "id": "7067bec7-e090-4412-8a3d-3ceadb146931",
   "metadata": {},
   "outputs": [
    {
     "name": "stdout",
     "output_type": "stream",
     "text": [
      "Matched_keywords :  ['python', 'sql', 'python', 'sql', 'python', 'python', 'python', 'python', 'python', 'python', 'python', 'python', 'sql', 'python', 'sql', 'python', 'python', 'python']\n",
      "Match Score:  18\n",
      "Skills Found : 18/12\n"
     ]
    }
   ],
   "source": [
    "def analyse_resume(file_path):\n",
    "    if file_path.endswith(\".pdf\"):\n",
    "        text=pdf(file_path)\n",
    "\n",
    "    else:\n",
    "        return \"UNSUPPPORTED FORMAT\"\n",
    "\n",
    "    tokens=token(text)\n",
    "\n",
    "    matched_keywords=match_keywords(tokens,keywords)\n",
    "\n",
    "    macth_score=len(matched_keywords)\n",
    "\n",
    "    print(\"Matched_keywords : \", matched_keywords)\n",
    "    print(\"Match Score: \", macth_score)\n",
    "    print(f\"Skills Found : {macth_score}/{len(keywords)}\")\n",
    "\n",
    "file_path = r\"C:\\Users\\juanm\\Juan Manuel Joya López\\Udemy Machine Learning\\CV_Juan_Manuel_Joya_López.pdf\"\n",
    "analyse_resume(file_path)\n"
   ]
  },
  {
   "cell_type": "code",
   "execution_count": 112,
   "id": "9c8de489-1767-4650-8720-a75e785f0467",
   "metadata": {},
   "outputs": [
    {
     "name": "stdout",
     "output_type": "stream",
     "text": [
      "Ruta completa: C:\\Users\\juanm\\Juan Manuel Joya López\\Udemy Machine Learning\\CV_Juan_Manuel_Joya_López.pdf\n"
     ]
    }
   ],
   "source": [
    "import os\n",
    "\n",
    "file_name = \"CV_Juan_Manuel_Joya_López.pdf\"\n",
    "file_path = os.path.abspath(file_name)\n",
    "\n",
    "print(\"Ruta completa:\", file_path)\n"
   ]
  },
  {
   "cell_type": "code",
   "execution_count": null,
   "id": "08087e71-a826-4666-b203-e6de062baabc",
   "metadata": {},
   "outputs": [],
   "source": []
  },
  {
   "cell_type": "code",
   "execution_count": null,
   "id": "2f43ea3b-8a30-4e67-bff3-9d177d5667e7",
   "metadata": {},
   "outputs": [],
   "source": []
  },
  {
   "cell_type": "code",
   "execution_count": null,
   "id": "c9af134c-a612-4d83-93fc-cbb9c5565cee",
   "metadata": {},
   "outputs": [],
   "source": []
  }
 ],
 "metadata": {
  "kernelspec": {
   "display_name": "Python 3 (ipykernel)",
   "language": "python",
   "name": "python3"
  },
  "language_info": {
   "codemirror_mode": {
    "name": "ipython",
    "version": 3
   },
   "file_extension": ".py",
   "mimetype": "text/x-python",
   "name": "python",
   "nbconvert_exporter": "python",
   "pygments_lexer": "ipython3",
   "version": "3.12.3"
  }
 },
 "nbformat": 4,
 "nbformat_minor": 5
}
